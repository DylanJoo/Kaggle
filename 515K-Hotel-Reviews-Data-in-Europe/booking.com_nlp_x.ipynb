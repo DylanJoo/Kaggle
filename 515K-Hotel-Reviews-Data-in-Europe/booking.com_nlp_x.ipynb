{
 "cells": [
  {
   "cell_type": "markdown",
   "metadata": {},
   "source": [
    "# Cleaned Dataset"
   ]
  },
  {
   "cell_type": "markdown",
   "metadata": {},
   "source": [
    "CleanedDataset(.csv): https://drive.google.com/open?id=1pyyNswPtU9J6vYGZGAJss_u7704S82Do\n",
    "ExperimentResults(.csv):https://docs.google.com/spreadsheets/d/1sYVVqwnPrhTWFtEl3k4xBjvTRO3fccQcOHQkYHB-_Vs/edit?usp=sharing\n",
    "ResearchWork(.pdf):https://drive.google.com/open?id=1ptPcXJNDfrtKmhRkHFp_MmMNAzkDs1SX"
   ]
  },
  {
   "cell_type": "code",
   "execution_count": 1,
   "metadata": {},
   "outputs": [],
   "source": [
    "import pandas as pd\n",
    "import numpy as np\n",
    "import nltk"
   ]
  },
  {
   "cell_type": "code",
   "execution_count": 2,
   "metadata": {},
   "outputs": [],
   "source": [
    "#import the new one\n",
    "data = pd.read_csv('clean_dataset.csv')"
   ]
  },
  {
   "cell_type": "markdown",
   "metadata": {},
   "source": [
    "# Preprocessing"
   ]
  },
  {
   "cell_type": "code",
   "execution_count": 3,
   "metadata": {},
   "outputs": [],
   "source": [
    "#Missing value: Drop the reviews with missing value directly.\n",
    "data.dropna(inplace = True)\n",
    "data.drop('Unnamed: 0', 1, inplace =True)\n",
    "data.reset_index(drop = True, inplace = True)\n",
    "#500717 records"
   ]
  },
  {
   "cell_type": "code",
   "execution_count": 4,
   "metadata": {},
   "outputs": [],
   "source": [
    "#One-side Reviews: Remove the review with \"No Negative\"/\"No Positive\". \n",
    "data['NegativeReview'].replace('No Negative', \"\", inplace = True)\n",
    "data['PositiveReview'].replace('No Positive', \"\", inplace = True)"
   ]
  },
  {
   "cell_type": "code",
   "execution_count": 5,
   "metadata": {},
   "outputs": [],
   "source": [
    "#Combine: Positive and negative reviews would be treated as only a review, and in addition : lower the case. \n",
    "corpus = data.NegativeReview + data.PositiveReview\n",
    "data.insert(0, \"Review\", corpus.str.lower())"
   ]
  },
  {
   "cell_type": "code",
   "execution_count": 6,
   "metadata": {},
   "outputs": [],
   "source": [
    "#Tokenization: Conduct the work_tokenize first. (sent_tokenizing is more complicated in this case.)\n",
    "from nltk.tokenize import sent_tokenize, word_tokenize\n",
    "#data = data.join(data.TEXT.apply(sent_tokenize).rename('SENTENCES'))\n",
    "#sent = data.NegativeReview.apply(sent_tokenize)\n",
    "word_tokenized = data.Review.apply(word_tokenize)\n",
    "data.insert(0, \"WordToken\", word_tokenized)"
   ]
  },
  {
   "cell_type": "code",
   "execution_count": 7,
   "metadata": {},
   "outputs": [
    {
     "data": {
      "text/html": [
       "<div>\n",
       "<style scoped>\n",
       "    .dataframe tbody tr th:only-of-type {\n",
       "        vertical-align: middle;\n",
       "    }\n",
       "\n",
       "    .dataframe tbody tr th {\n",
       "        vertical-align: top;\n",
       "    }\n",
       "\n",
       "    .dataframe thead th {\n",
       "        text-align: right;\n",
       "    }\n",
       "</style>\n",
       "<table border=\"1\" class=\"dataframe\">\n",
       "  <thead>\n",
       "    <tr style=\"text-align: right;\">\n",
       "      <th></th>\n",
       "      <th>WordToken</th>\n",
       "      <th>Review</th>\n",
       "      <th>NegativeReview</th>\n",
       "      <th>PositiveReview</th>\n",
       "      <th>TripStyle</th>\n",
       "    </tr>\n",
       "  </thead>\n",
       "  <tbody>\n",
       "    <tr>\n",
       "      <th>0</th>\n",
       "      <td>[i, am, so, angry, that, i, made, this, post, ...</td>\n",
       "      <td>i am so angry that i made this post available...</td>\n",
       "      <td>I am so angry that i made this post available...</td>\n",
       "      <td>Only the park outside of the hotel was beauti...</td>\n",
       "      <td>Leisure</td>\n",
       "    </tr>\n",
       "    <tr>\n",
       "      <th>1</th>\n",
       "      <td>[no, real, complaints, the, hotel, was, great,...</td>\n",
       "      <td>no real complaints the hotel was great great ...</td>\n",
       "      <td></td>\n",
       "      <td>No real complaints the hotel was great great ...</td>\n",
       "      <td>Leisure</td>\n",
       "    </tr>\n",
       "    <tr>\n",
       "      <th>2</th>\n",
       "      <td>[rooms, are, nice, but, for, elderly, a, bit, ...</td>\n",
       "      <td>rooms are nice but for elderly a bit difficul...</td>\n",
       "      <td>Rooms are nice but for elderly a bit difficul...</td>\n",
       "      <td>Location was good and staff were ok It is cut...</td>\n",
       "      <td>Leisure</td>\n",
       "    </tr>\n",
       "    <tr>\n",
       "      <th>3</th>\n",
       "      <td>[my, room, was, dirty, and, i, was, afraid, to...</td>\n",
       "      <td>my room was dirty and i was afraid to walk ba...</td>\n",
       "      <td>My room was dirty and I was afraid to walk ba...</td>\n",
       "      <td>Great location in nice surroundings the bar a...</td>\n",
       "      <td>Leisure</td>\n",
       "    </tr>\n",
       "    <tr>\n",
       "      <th>4</th>\n",
       "      <td>[you, when, i, booked, with, your, company, on...</td>\n",
       "      <td>you when i booked with your company on line y...</td>\n",
       "      <td>You When I booked with your company on line y...</td>\n",
       "      <td>Amazing location and building Romantic setting</td>\n",
       "      <td>Leisure</td>\n",
       "    </tr>\n",
       "  </tbody>\n",
       "</table>\n",
       "</div>"
      ],
      "text/plain": [
       "                                           WordToken  \\\n",
       "0  [i, am, so, angry, that, i, made, this, post, ...   \n",
       "1  [no, real, complaints, the, hotel, was, great,...   \n",
       "2  [rooms, are, nice, but, for, elderly, a, bit, ...   \n",
       "3  [my, room, was, dirty, and, i, was, afraid, to...   \n",
       "4  [you, when, i, booked, with, your, company, on...   \n",
       "\n",
       "                                              Review  \\\n",
       "0   i am so angry that i made this post available...   \n",
       "1   no real complaints the hotel was great great ...   \n",
       "2   rooms are nice but for elderly a bit difficul...   \n",
       "3   my room was dirty and i was afraid to walk ba...   \n",
       "4   you when i booked with your company on line y...   \n",
       "\n",
       "                                      NegativeReview  \\\n",
       "0   I am so angry that i made this post available...   \n",
       "1                                                      \n",
       "2   Rooms are nice but for elderly a bit difficul...   \n",
       "3   My room was dirty and I was afraid to walk ba...   \n",
       "4   You When I booked with your company on line y...   \n",
       "\n",
       "                                      PositiveReview TripStyle  \n",
       "0   Only the park outside of the hotel was beauti...   Leisure  \n",
       "1   No real complaints the hotel was great great ...   Leisure  \n",
       "2   Location was good and staff were ok It is cut...   Leisure  \n",
       "3   Great location in nice surroundings the bar a...   Leisure  \n",
       "4    Amazing location and building Romantic setting    Leisure  "
      ]
     },
     "execution_count": 7,
     "metadata": {},
     "output_type": "execute_result"
    }
   ],
   "source": [
    "data.head()"
   ]
  },
  {
   "cell_type": "code",
   "execution_count": 8,
   "metadata": {},
   "outputs": [],
   "source": [
    "#Anomaly, Weird records: Drop the empty review(or we could remove the review with less than 5 words?)\n",
    "word_count = data.WordToken.apply(lambda x: len(x))\n",
    "filter_count = (word_count >= 1) #if 5, remained 462350\n",
    "data = data[filter_count]\n",
    "data.reset_index(drop = True, inplace = True)\n",
    "#Now the total records are 500487"
   ]
  },
  {
   "cell_type": "code",
   "execution_count": 9,
   "metadata": {},
   "outputs": [],
   "source": [
    "#StopWordRemoval: Remove the NLTK build-in stopwords in all the records.\n",
    "#from nltk.corpus import stopwords\n",
    "#stop_words = set(stopwords.words('english'))\n",
    "#wosw = data.WordToken.apply(lambda x:  [item for item in x if item not in stop_words])"
   ]
  },
  {
   "cell_type": "code",
   "execution_count": 10,
   "metadata": {},
   "outputs": [],
   "source": [
    "#Lemmatization: Convert the terms with different representations into the original.\n",
    "from nltk.stem import WordNetLemmatizer\n",
    "\n",
    "wnl = WordNetLemmatizer()\n",
    "def lemmatize_text(text):\n",
    "    return [wnl.lemmatize(w) for w in text]\n",
    "\n",
    "data.insert(0, 'Lemmatized',data.WordToken.apply(lemmatize_text))"
   ]
  },
  {
   "cell_type": "code",
   "execution_count": 11,
   "metadata": {},
   "outputs": [],
   "source": [
    "#Add the word count feature.\n",
    "data.insert(0, 'WordCount', data.WordToken.apply(lambda x: len(x)))"
   ]
  },
  {
   "cell_type": "markdown",
   "metadata": {},
   "source": [
    "# Split dataset into train/test set"
   ]
  },
  {
   "cell_type": "code",
   "execution_count": 12,
   "metadata": {},
   "outputs": [
    {
     "name": "stderr",
     "output_type": "stream",
     "text": [
      "/Library/Frameworks/Python.framework/Versions/3.7/lib/python3.7/site-packages/pandas/core/frame.py:3697: SettingWithCopyWarning: \n",
      "A value is trying to be set on a copy of a slice from a DataFrame\n",
      "\n",
      "See the caveats in the documentation: http://pandas.pydata.org/pandas-docs/stable/indexing.html#indexing-view-versus-copy\n",
      "  errors=errors)\n"
     ]
    }
   ],
   "source": [
    "#Split them into train/test set, randomly with the test size 0.33 (same distribution of each class)\n",
    "from sklearn.model_selection import train_test_split\n",
    "train, test = train_test_split(data, stratify = data['TripStyle'], test_size=0.33, random_state = 1)\n",
    "\n",
    "col = ['NegativeReview', 'PositiveReview']\n",
    "train.drop(col, 1, inplace = True)\n",
    "test.drop(col, 1, inplace = True)\n",
    "\n",
    "train.reset_index(drop = True, inplace = True)\n",
    "test.reset_index(drop = True, inplace = True)\n",
    "\n",
    "#335K v.s. 165K(train/test split with stratified 0.83 of majority)"
   ]
  },
  {
   "cell_type": "code",
   "execution_count": 11,
   "metadata": {},
   "outputs": [],
   "source": [
    "#Undersampling\n",
    "#from imblearn.under_sampling import RandomUnderSampler\n",
    "#rus = RandomUnderSampler(random_state = 1)\n",
    "#x_train, lbl_train = rus.fit_resample(x_train, lbl_train)"
   ]
  },
  {
   "cell_type": "code",
   "execution_count": 12,
   "metadata": {},
   "outputs": [],
   "source": [
    "#DOING SOME OUTLIER REMOVAL IN TRAINING SET\n",
    "#word_count = train.WordToken.apply(lambda x: len(x))\n",
    "#filter_count = (word_count >= 3) #if 5, remained 462350\n",
    "#train = train[filter_count]\n",
    "#train.reset_index(drop = True, inplace = True)\n",
    "#Now the total records are 500487\n",
    "#325729 now"
   ]
  },
  {
   "cell_type": "code",
   "execution_count": 13,
   "metadata": {},
   "outputs": [],
   "source": [
    "#Labeling\n",
    "from sklearn.preprocessing import LabelEncoder\n",
    "le = LabelEncoder()\n",
    "lbl_train, lbl_test = le.fit_transform(train.TripStyle), le.transform(test.TripStyle)"
   ]
  },
  {
   "cell_type": "markdown",
   "metadata": {},
   "source": [
    "# Feature Engineering\n",
    "\n",
    "A. Origianl Framework\n",
    "    1. TFIDF\n",
    "    2. W2V\n",
    "    \n",
    "B. Experiment\n",
    "    1. One-class fitting: minority\n",
    "    2. Combination: WordCount included\n",
    "    3. POS filtering\n",
    "    4. Preprocessing: NER like tokenized\n",
    "    5. Combination: TFIDF + W2V \n",
    "    \n",
    "C. Feature Selection\n",
    "    1. Supervised Approach: ANOVA F test: f_classif\n",
    "    "
   ]
  },
  {
   "cell_type": "markdown",
   "metadata": {},
   "source": [
    "# Original Experiment: Testing Here"
   ]
  },
  {
   "cell_type": "code",
   "execution_count": 14,
   "metadata": {},
   "outputs": [],
   "source": [
    "#TFIDF original\n",
    "\n",
    "def dum(doc):\n",
    "    return doc\n",
    "\n",
    "from sklearn.feature_extraction.text import TfidfVectorizer\n",
    "vectorizer = TfidfVectorizer(\n",
    "                             ngram_range = (1,1),\n",
    "                             tokenizer = dum, \n",
    "                             preprocessor = dum,\n",
    "                             min_df = 0.01)\n",
    "\n",
    "x_ = vectorizer.fit_transform(train.WordToken)\n",
    "\n",
    "#Implement GC"
   ]
  },
  {
   "cell_type": "code",
   "execution_count": 15,
   "metadata": {},
   "outputs": [],
   "source": [
    "from sklearn.preprocessing import StandardScaler\n",
    "idf_dict = vectorizer.idf_[:, np.newaxis]\n",
    "ss = StandardScaler()\n",
    "weight = ss.fit_transform(idf_dict)\n",
    "\n",
    "dictionary = dict(zip(vectorizer.get_feature_names(), weight.flatten()))"
   ]
  },
  {
   "cell_type": "code",
   "execution_count": 16,
   "metadata": {},
   "outputs": [],
   "source": [
    "def idfweight(termlist):\n",
    "    wl = []\n",
    "    for word in termlist:\n",
    "        if word in dictionary.keys():\n",
    "            wl.append(dictionary[word])\n",
    "        else:\n",
    "            wl.append(1)\n",
    "    return wl"
   ]
  },
  {
   "cell_type": "code",
   "execution_count": 50,
   "metadata": {},
   "outputs": [],
   "source": [
    "#W2V origianl\n",
    "\n",
    "from gensim.models import Word2Vec, KeyedVectors\n",
    "from gensim.test.utils import common_texts, get_tmpfile\n",
    "model = Word2Vec(size = 300, window = 2, min_count = 1)\n",
    "#In order to count the single-word review, cfg with two word window and one count.\n",
    "\n",
    "#Building the dictionary.\n",
    "model.build_vocab(train.WordToken)\n",
    "\n",
    "#Train the w2v model with WordWokens\n",
    "\n",
    "model.train(train.WordToken, total_examples = len(train.WordToken), epochs = 3)\n",
    "model.init_sims(replace = True)\n",
    "\n",
    "#To lower the memory usage, save/load in KV model is necessary...\n",
    "fpath = get_tmpfile(\"w2v.kv\")\n",
    "model.wv.save(fpath)\n",
    "del model\n",
    "wv = KeyedVectors.load(fpath, mmap='r')\n",
    "\n",
    "#Document vector: By simply get the average of the wordvec in the single doc.\n",
    "def doc_vec(doc, mean = np.zeros(wv.vector_size)):  \n",
    "    doc = [word for word in doc] # target input list of words\n",
    "    #v = wv[doc] #orginal vector from word embedding\n",
    "    #w = np.array(idfweight(doc))[:, np.newaxis] #idf-weighting approach\n",
    "    try:\n",
    "        return np.mean(wv[doc], axis = 0)\n",
    "       # return np.mean(np.multiply(wv[doc] , np.array(idfweight(doc))[:, np.newaxis]), axis = 0)\n",
    "    except:\n",
    "        return mean  #13168/165161 is zero vector\n",
    "\n",
    "x_train = np.vstack(train.WordToken.apply(doc_vec))  #not sure abou whether a more efficient way\n",
    "mean = np.mean(x_train, axis = 0)\n",
    "\n",
    "#TRY TO DO SOMETHING ON UNKNOWN WORD\n",
    "x_test = np.vstack(test.WordToken.apply(lambda x : doc_vec(x, mean) ))  #not sure abou whether a more efficient way"
   ]
  },
  {
   "cell_type": "markdown",
   "metadata": {},
   "source": [
    "# (1st NOW) Experiment I - Fit on Business-Labeled data only"
   ]
  },
  {
   "cell_type": "code",
   "execution_count": 14,
   "metadata": {},
   "outputs": [],
   "source": [
    "#Vectorize II-3: Bow with TFIDF transformation.\n",
    "\n",
    "def dum(doc):\n",
    "    return doc\n",
    "\n",
    "from sklearn.feature_extraction.text import TfidfVectorizer\n",
    "vectorizer = TfidfVectorizer(\n",
    "                             ngram_range = (1,2),\n",
    "                             tokenizer = dum, \n",
    "                             preprocessor = dum,\n",
    "                             min_df = 0.001,\n",
    "                             max_df = 0.4)\n",
    "\n",
    "bt = train[train.TripStyle == 'Business']\n",
    "x = vectorizer.fit(bt.WordToken)\n",
    "x_ = vectorizer.transform(train.WordToken)\n",
    "x_train = x_.toarray()\n",
    "x_test = vectorizer.transform(test.WordToken).toarray()\n",
    "\n",
    "#Implement GC\n",
    "del x"
   ]
  },
  {
   "cell_type": "markdown",
   "metadata": {},
   "source": [
    "# Experiment II - WordCount included"
   ]
  },
  {
   "cell_type": "code",
   "execution_count": 656,
   "metadata": {},
   "outputs": [],
   "source": [
    "from sklearn.preprocessing import StandardScaler, KBinsDiscretizer\n",
    "\n",
    "#a = scaler.fit_transform(train.WordCount[:, np.newaxis])  # fit does nothing.\n",
    "#b = scaler.transform(test.WordCount[:, np.newaxis])\n",
    "a = np.array(train.WordCount).reshape(len(train.WordCount), 1) # fit does nothing.\n",
    "b = np.array(test.WordCount).reshape(len(test.WordCount), 1)"
   ]
  },
  {
   "cell_type": "code",
   "execution_count": 657,
   "metadata": {},
   "outputs": [],
   "source": [
    "kbin = KBinsDiscretizer(n_bins = 17, encode = 'onehot-dense', strategy = 'quantile')\n",
    "a = kbin.fit_transform(a) \n",
    "b = kbin.transform(b)"
   ]
  },
  {
   "cell_type": "code",
   "execution_count": 674,
   "metadata": {},
   "outputs": [],
   "source": [
    "#Cobiine the wordcount in to be treated as the feature.\n",
    "x_train = np.append(x_train, a, axis = 1)\n",
    "x_test = np.append(x_test, b , axis = 1)"
   ]
  },
  {
   "cell_type": "markdown",
   "metadata": {},
   "source": [
    "# Experiment III - Part of speech filtering"
   ]
  },
  {
   "cell_type": "code",
   "execution_count": null,
   "metadata": {},
   "outputs": [],
   "source": [
    "#POS filter: Remaining some important words only, filtered others.\n",
    "#Warning: It took lots of time\n",
    "\n",
    "def pos_tagging(sent):\n",
    "    tagfilter = {'NOUN'}\n",
    "    target = [item for (item, tag) in nltk.pos_tag(sent, tagset = 'universal') if tag in tagfilter]\n",
    "    return target\n",
    "\n",
    "data.insert(0, 'POS', data.Lemmatized.apply(pos_tagging))"
   ]
  },
  {
   "cell_type": "markdown",
   "metadata": {},
   "source": [
    "## Feature Selection"
   ]
  },
  {
   "cell_type": "code",
   "execution_count": 15,
   "metadata": {},
   "outputs": [],
   "source": [
    "#Feature Selection: Fitting the ANOVA stats on training data(only doing on testing data.)\n",
    "from sklearn.feature_selection import f_classif, SelectKBest, VarianceThreshold, chi2\n",
    "\n",
    "def FeatureSelect_f(feature, target, d):\n",
    "    fs = SelectKBest(f_classif, k = d).fit(feature, target)\n",
    "    return fs\n",
    "\n",
    "#Supervised approach\n",
    "fs = FeatureSelect_f(x_train, lbl_train, 500)\n",
    "#Transform both training/testing set into new selected-form.\n",
    "x_train = fs.transform(x_train)\n",
    "x_test = fs.transform(x_test)\n",
    "\n",
    "#Unsupervised approach"
   ]
  },
  {
   "cell_type": "markdown",
   "metadata": {},
   "source": [
    "# Experiment IV - Preprocess work, special terms tokenization"
   ]
  },
  {
   "cell_type": "code",
   "execution_count": 667,
   "metadata": {},
   "outputs": [
    {
     "ename": "NameError",
     "evalue": "name 'NumTokenizedl' is not defined",
     "output_type": "error",
     "traceback": [
      "\u001b[0;31m---------------------------------------------------------------------------\u001b[0m",
      "\u001b[0;31mNameError\u001b[0m                                 Traceback (most recent call last)",
      "\u001b[0;32m<ipython-input-667-9f31c73a9b2a>\u001b[0m in \u001b[0;36m<module>\u001b[0;34m\u001b[0m\n\u001b[1;32m      3\u001b[0m     \u001b[0mt\u001b[0m \u001b[0;34m=\u001b[0m \u001b[0;34m[\u001b[0m\u001b[0mre\u001b[0m\u001b[0;34m.\u001b[0m\u001b[0msub\u001b[0m\u001b[0;34m(\u001b[0m\u001b[0;34m\"\\d+\"\u001b[0m\u001b[0;34m,\u001b[0m \u001b[0;34m\"<num>\"\u001b[0m\u001b[0;34m,\u001b[0m \u001b[0mline\u001b[0m\u001b[0;34m)\u001b[0m \u001b[0;32mfor\u001b[0m \u001b[0mline\u001b[0m \u001b[0;32min\u001b[0m \u001b[0msent\u001b[0m\u001b[0;34m]\u001b[0m\u001b[0;34m\u001b[0m\u001b[0m\n\u001b[1;32m      4\u001b[0m     \u001b[0;32mreturn\u001b[0m \u001b[0mt\u001b[0m\u001b[0;34m\u001b[0m\u001b[0m\n\u001b[0;32m----> 5\u001b[0;31m \u001b[0mdata\u001b[0m\u001b[0;34m.\u001b[0m\u001b[0minsert\u001b[0m\u001b[0;34m(\u001b[0m\u001b[0;36m0\u001b[0m\u001b[0;34m,\u001b[0m \u001b[0;34m'NER'\u001b[0m\u001b[0;34m,\u001b[0m \u001b[0mdata\u001b[0m\u001b[0;34m.\u001b[0m\u001b[0mWordToken\u001b[0m\u001b[0;34m.\u001b[0m\u001b[0mapply\u001b[0m\u001b[0;34m(\u001b[0m\u001b[0mNumTokenizedl\u001b[0m\u001b[0;34m)\u001b[0m\u001b[0;34m)\u001b[0m\u001b[0;34m\u001b[0m\u001b[0m\n\u001b[0m",
      "\u001b[0;31mNameError\u001b[0m: name 'NumTokenizedl' is not defined"
     ]
    }
   ],
   "source": [
    "def NumTokenized(sent):\n",
    "    regex = \"\\d\"\n",
    "    t = [re.sub(\"\\d+\", \"<num>\", line) for line in sent]\n",
    "    return t \n",
    "data.insert(0, 'NER', data.WordToken.apply(NumTokenized))"
   ]
  },
  {
   "cell_type": "markdown",
   "metadata": {},
   "source": [
    "# Experiment V - Just combine them"
   ]
  },
  {
   "cell_type": "code",
   "execution_count": null,
   "metadata": {},
   "outputs": [],
   "source": [
    "#Execute each of the vectorization approach to two variables\n",
    "#Assign the new feature vectors(combination) to x_train, x_test\n",
    "x_train = np.append(x_train1, x_train, axis = 1)\n",
    "x_test = np.append(x_test1, x_test, axis = 1)\n",
    "#Dimentionality is 300+434 = 734"
   ]
  },
  {
   "cell_type": "markdown",
   "metadata": {},
   "source": [
    "# Modeling\n",
    "\n",
    "-Supervised\n",
    "1. Naive Bayes: Gaussian\n",
    "\n",
    "\n",
    "-Unsupervised\n",
    "1. LDA\n",
    "2. Sentense clustering\n",
    "\n"
   ]
  },
  {
   "cell_type": "code",
   "execution_count": 16,
   "metadata": {},
   "outputs": [
    {
     "data": {
      "text/plain": [
       "GaussianNB(priors=None, var_smoothing=1e-09)"
      ]
     },
     "execution_count": 16,
     "metadata": {},
     "output_type": "execute_result"
    }
   ],
   "source": [
    "from sklearn.naive_bayes import GaussianNB\n",
    "clf_gnb = GaussianNB()\n",
    "clf_gnb.fit(x_train, lbl_train)"
   ]
  },
  {
   "cell_type": "markdown",
   "metadata": {},
   "source": [
    "# Evaluation\n",
    "\n",
    "1. Original\n",
    "2. Imblanced Problem included"
   ]
  },
  {
   "cell_type": "code",
   "execution_count": 17,
   "metadata": {},
   "outputs": [],
   "source": [
    "#Evaluation function:\n",
    "from sklearn.metrics import precision_recall_curve, auc, confusion_matrix, accuracy_score, classification_report\n",
    "from imblearn.metrics import classification_report_imbalanced\n",
    "import matplotlib.pyplot as plt\n",
    "#ref: https://acutecaretesting.org/en/articles/precision-recall-curves-what-are-they-and-how-are-they-used\n",
    "def evaluating(truth, pred, ax=object):\n",
    "  \n",
    "    print(accuracy_score(truth, pred))\n",
    "    print(classification_report_imbalanced(truth, pred))    \n",
    "    print(confusion_matrix(truth, pred))\n",
    "    precision, recall, threshold = precision_recall_curve(truth, pred)\n",
    "\n",
    "    ax.step(recall, precision, color='b', alpha=1, where='post')\n",
    "    ax.fill_between(recall, precision, step='post', alpha=0.5, color='b')\n",
    "    ax.set_xlabel('Recall')\n",
    "    ax.set_ylabel('Precision')\n",
    "    ax.set_ylim([0.0, 1.05])\n",
    "    ax.set_xlim([0.0, 1.0])\n",
    "    ax.set_title('Precision-Recall curve')\n",
    "    return ax\n",
    "#ref: https://scikit-learn.org/stable/auto_examples/model_selection/plot_precision_recall.html"
   ]
  },
  {
   "cell_type": "code",
   "execution_count": 18,
   "metadata": {},
   "outputs": [
    {
     "name": "stdout",
     "output_type": "stream",
     "text": [
      "0.7449034578381095\n",
      "                   pre       rec       spe        f1       geo       iba       sup\n",
      "\n",
      "          0       0.31      0.43      0.81      0.36      0.59      0.34     27350\n",
      "          1       0.88      0.81      0.43      0.84      0.59      0.36    137811\n",
      "\n",
      "avg / total       0.78      0.74      0.49      0.76      0.59      0.36    165161\n",
      "\n",
      "[[ 11812  15538]\n",
      " [ 26594 111217]]\n"
     ]
    },
    {
     "data": {
      "text/plain": [
       "<matplotlib.axes._subplots.AxesSubplot at 0x182c00e48>"
      ]
     },
     "execution_count": 18,
     "metadata": {},
     "output_type": "execute_result"
    },
    {
     "data": {
      "image/png": "[encoded data removed]",
      "text/plain": [
       "<Figure size 720x720 with 1 Axes>"
      ]
     },
     "metadata": {
      "needs_background": "light"
     },
     "output_type": "display_data"
    }
   ],
   "source": [
    "f, (ax1) = plt.subplots(1, 1, figsize=(10,10))\n",
    "\n",
    "pred_gnb = clf_gnb.predict(x_test)\n",
    "evaluating(lbl_test, pred_gnb, ax1)\n",
    "\n",
    "# Imbalanced Problem\n",
    "#137K v.s. 27K"
   ]
  },
  {
   "cell_type": "markdown",
   "metadata": {},
   "source": [
    "# Unsupervised Approach: LDA modeling"
   ]
  },
  {
   "cell_type": "code",
   "execution_count": null,
   "metadata": {},
   "outputs": [],
   "source": [
    "from gensim import corpora\n",
    "import gensim"
   ]
  },
  {
   "cell_type": "code",
   "execution_count": 340,
   "metadata": {},
   "outputs": [],
   "source": [
    "tagged_sentences = [nltk.pos_tag(sentence) for sentence in test]\n",
    "ne_chunked_sents = [nltk.ne_chunk(tagged) for tagged in tagged_sentences]"
   ]
  },
  {
   "cell_type": "code",
   "execution_count": 286,
   "metadata": {},
   "outputs": [],
   "source": [
    "id2word = corpora.Dictionary(train.Lemmatized)"
   ]
  },
  {
   "cell_type": "code",
   "execution_count": 289,
   "metadata": {},
   "outputs": [],
   "source": [
    "texts = train.Lemmatized\n",
    "corpus = [id2word.doc2bow(text) for text in texts]"
   ]
  },
  {
   "cell_type": "code",
   "execution_count": 318,
   "metadata": {},
   "outputs": [
    {
     "ename": "KeyboardInterrupt",
     "evalue": "",
     "output_type": "error",
     "traceback": [
      "\u001b[0;31m---------------------------------------------------------------------------\u001b[0m",
      "\u001b[0;31mKeyboardInterrupt\u001b[0m                         Traceback (most recent call last)",
      "\u001b[0;32m<ipython-input-318-955d1b1fd155>\u001b[0m in \u001b[0;36m<module>\u001b[0;34m\u001b[0m\n\u001b[1;32m      7\u001b[0m                                            \u001b[0mpasses\u001b[0m\u001b[0;34m=\u001b[0m\u001b[0;36m10\u001b[0m\u001b[0;34m,\u001b[0m\u001b[0;34m\u001b[0m\u001b[0m\n\u001b[1;32m      8\u001b[0m                                            \u001b[0malpha\u001b[0m\u001b[0;34m=\u001b[0m\u001b[0;34m'auto'\u001b[0m\u001b[0;34m,\u001b[0m\u001b[0;34m\u001b[0m\u001b[0m\n\u001b[0;32m----> 9\u001b[0;31m                                            per_word_topics=True)\n\u001b[0m",
      "\u001b[0;32m/Library/Frameworks/Python.framework/Versions/3.7/lib/python3.7/site-packages/gensim/models/ldamodel.py\u001b[0m in \u001b[0;36m__init__\u001b[0;34m(self, corpus, num_topics, id2word, distributed, chunksize, passes, update_every, alpha, eta, decay, offset, eval_every, iterations, gamma_threshold, minimum_probability, random_state, ns_conf, minimum_phi_value, per_word_topics, callbacks, dtype)\u001b[0m\n\u001b[1;32m    513\u001b[0m         \u001b[0;32mif\u001b[0m \u001b[0mcorpus\u001b[0m \u001b[0;32mis\u001b[0m \u001b[0;32mnot\u001b[0m \u001b[0;32mNone\u001b[0m\u001b[0;34m:\u001b[0m\u001b[0;34m\u001b[0m\u001b[0m\n\u001b[1;32m    514\u001b[0m             \u001b[0muse_numpy\u001b[0m \u001b[0;34m=\u001b[0m \u001b[0mself\u001b[0m\u001b[0;34m.\u001b[0m\u001b[0mdispatcher\u001b[0m \u001b[0;32mis\u001b[0m \u001b[0;32mnot\u001b[0m \u001b[0;32mNone\u001b[0m\u001b[0;34m\u001b[0m\u001b[0m\n\u001b[0;32m--> 515\u001b[0;31m             \u001b[0mself\u001b[0m\u001b[0;34m.\u001b[0m\u001b[0mupdate\u001b[0m\u001b[0;34m(\u001b[0m\u001b[0mcorpus\u001b[0m\u001b[0;34m,\u001b[0m \u001b[0mchunks_as_numpy\u001b[0m\u001b[0;34m=\u001b[0m\u001b[0muse_numpy\u001b[0m\u001b[0;34m)\u001b[0m\u001b[0;34m\u001b[0m\u001b[0m\n\u001b[0m\u001b[1;32m    516\u001b[0m \u001b[0;34m\u001b[0m\u001b[0m\n\u001b[1;32m    517\u001b[0m     \u001b[0;32mdef\u001b[0m \u001b[0minit_dir_prior\u001b[0m\u001b[0;34m(\u001b[0m\u001b[0mself\u001b[0m\u001b[0;34m,\u001b[0m \u001b[0mprior\u001b[0m\u001b[0;34m,\u001b[0m \u001b[0mname\u001b[0m\u001b[0;34m)\u001b[0m\u001b[0;34m:\u001b[0m\u001b[0;34m\u001b[0m\u001b[0m\n",
      "\u001b[0;32m/Library/Frameworks/Python.framework/Versions/3.7/lib/python3.7/site-packages/gensim/models/ldamodel.py\u001b[0m in \u001b[0;36mupdate\u001b[0;34m(self, corpus, chunksize, decay, offset, passes, update_every, eval_every, iterations, gamma_threshold, chunks_as_numpy)\u001b[0m\n\u001b[1;32m    975\u001b[0m                         \u001b[0mlogger\u001b[0m\u001b[0;34m.\u001b[0m\u001b[0minfo\u001b[0m\u001b[0;34m(\u001b[0m\u001b[0;34m\"reached the end of input; now waiting for all remaining jobs to finish\"\u001b[0m\u001b[0;34m)\u001b[0m\u001b[0;34m\u001b[0m\u001b[0m\n\u001b[1;32m    976\u001b[0m                         \u001b[0mother\u001b[0m \u001b[0;34m=\u001b[0m \u001b[0mself\u001b[0m\u001b[0;34m.\u001b[0m\u001b[0mdispatcher\u001b[0m\u001b[0;34m.\u001b[0m\u001b[0mgetstate\u001b[0m\u001b[0;34m(\u001b[0m\u001b[0;34m)\u001b[0m\u001b[0;34m\u001b[0m\u001b[0m\n\u001b[0;32m--> 977\u001b[0;31m                     \u001b[0mself\u001b[0m\u001b[0;34m.\u001b[0m\u001b[0mdo_mstep\u001b[0m\u001b[0;34m(\u001b[0m\u001b[0mrho\u001b[0m\u001b[0;34m(\u001b[0m\u001b[0;34m)\u001b[0m\u001b[0;34m,\u001b[0m \u001b[0mother\u001b[0m\u001b[0;34m,\u001b[0m \u001b[0mpass_\u001b[0m \u001b[0;34m>\u001b[0m \u001b[0;36m0\u001b[0m\u001b[0;34m)\u001b[0m\u001b[0;34m\u001b[0m\u001b[0m\n\u001b[0m\u001b[1;32m    978\u001b[0m                     \u001b[0;32mdel\u001b[0m \u001b[0mother\u001b[0m  \u001b[0;31m# frees up memory\u001b[0m\u001b[0;34m\u001b[0m\u001b[0m\n\u001b[1;32m    979\u001b[0m \u001b[0;34m\u001b[0m\u001b[0m\n",
      "\u001b[0;32m/Library/Frameworks/Python.framework/Versions/3.7/lib/python3.7/site-packages/gensim/models/ldamodel.py\u001b[0m in \u001b[0;36mdo_mstep\u001b[0;34m(self, rho, other, extra_pass)\u001b[0m\n\u001b[1;32m   1021\u001b[0m         \u001b[0;31m# update self with the new blend; also keep track of how much did\u001b[0m\u001b[0;34m\u001b[0m\u001b[0;34m\u001b[0m\u001b[0m\n\u001b[1;32m   1022\u001b[0m         \u001b[0;31m# the topics change through this update, to assess convergence\u001b[0m\u001b[0;34m\u001b[0m\u001b[0;34m\u001b[0m\u001b[0m\n\u001b[0;32m-> 1023\u001b[0;31m         \u001b[0mdiff\u001b[0m \u001b[0;34m=\u001b[0m \u001b[0mnp\u001b[0m\u001b[0;34m.\u001b[0m\u001b[0mlog\u001b[0m\u001b[0;34m(\u001b[0m\u001b[0mself\u001b[0m\u001b[0;34m.\u001b[0m\u001b[0mexpElogbeta\u001b[0m\u001b[0;34m)\u001b[0m\u001b[0;34m\u001b[0m\u001b[0m\n\u001b[0m\u001b[1;32m   1024\u001b[0m         \u001b[0mself\u001b[0m\u001b[0;34m.\u001b[0m\u001b[0mstate\u001b[0m\u001b[0;34m.\u001b[0m\u001b[0mblend\u001b[0m\u001b[0;34m(\u001b[0m\u001b[0mrho\u001b[0m\u001b[0;34m,\u001b[0m \u001b[0mother\u001b[0m\u001b[0;34m)\u001b[0m\u001b[0;34m\u001b[0m\u001b[0m\n\u001b[1;32m   1025\u001b[0m         \u001b[0mdiff\u001b[0m \u001b[0;34m-=\u001b[0m \u001b[0mself\u001b[0m\u001b[0;34m.\u001b[0m\u001b[0mstate\u001b[0m\u001b[0;34m.\u001b[0m\u001b[0mget_Elogbeta\u001b[0m\u001b[0;34m(\u001b[0m\u001b[0;34m)\u001b[0m\u001b[0;34m\u001b[0m\u001b[0m\n",
      "\u001b[0;31mKeyboardInterrupt\u001b[0m: "
     ]
    }
   ],
   "source": [
    "lda_model = gensim.models.ldamodel.LdaModel(corpus = corpus,\n",
    "                                           id2word = id2word,\n",
    "                                           num_topics = 20, \n",
    "                                           random_state = 100,\n",
    "                                           update_every = 1,\n",
    "                                           chunksize = 100,\n",
    "                                           passes = 10,\n",
    "                                           alpha='auto',\n",
    "                                           per_word_topics = True)"
   ]
  },
  {
   "cell_type": "code",
   "execution_count": null,
   "metadata": {},
   "outputs": [],
   "source": [
    "# Print the Keyword in the 10 topics\n",
    "pprint(lda_model.print_topics())\n",
    "doc_lda = lda_model[corpus]"
   ]
  }
 ],
 "metadata": {
  "kernelspec": {
   "display_name": "Python 3",
   "language": "python",
   "name": "python3"
  },
  "language_info": {
   "codemirror_mode": {
    "name": "ipython",
    "version": 3
   },
   "file_extension": ".py",
   "mimetype": "text/x-python",
   "name": "python",
   "nbconvert_exporter": "python",
   "pygments_lexer": "ipython3",
   "version": "3.7.0"
  }
 },
 "nbformat": 4,
 "nbformat_minor": 2
}
