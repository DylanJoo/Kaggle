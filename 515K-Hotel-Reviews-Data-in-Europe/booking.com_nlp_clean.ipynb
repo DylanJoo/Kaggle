{
 "cells": [
  {
   "cell_type": "code",
   "execution_count": 1,
   "metadata": {},
   "outputs": [],
   "source": [
    "import pandas as pd"
   ]
  },
  {
   "cell_type": "code",
   "execution_count": 11,
   "metadata": {},
   "outputs": [],
   "source": [
    "df = pd.read_csv('Hotel_Reviews.csv')"
   ]
  },
  {
   "cell_type": "code",
   "execution_count": 10,
   "metadata": {},
   "outputs": [],
   "source": [
    "reviews = ['Negative_Review', 'Positive_Review', 'Tags'] \n",
    "df = df[reviews]"
   ]
  },
  {
   "cell_type": "code",
   "execution_count": 51,
   "metadata": {},
   "outputs": [],
   "source": [
    "nr = df.Negative_Review\n",
    "pr = df.Positive_Review\n",
    "nr.replace({'No Negative' : ''}, inplace = True)\n",
    "pr.replace({'No Positive' : ''}, inplace = True)\n",
    "\n",
    "lt = df['Tags'].str.contains(' Leisure trip ')\n",
    "bt = df['Tags'].str.contains(' Business trip ')\n",
    "denull = (lt != bt)\n",
    "#i hav checked that no review tagged as 'leisure trip' and 'business trip' at the same time."
   ]
  },
  {
   "cell_type": "code",
   "execution_count": 64,
   "metadata": {},
   "outputs": [],
   "source": [
    "temp = pd.DataFrame({'Review': nr + pr, 'TripStyle': lt})\n",
    "temp = temp[denull].reset_index(drop = True)\n",
    "temp.replace({True: 'Leisure', False: 'Business'}, inplace = True)"
   ]
  },
  {
   "cell_type": "code",
   "execution_count": 69,
   "metadata": {},
   "outputs": [
    {
     "data": {
      "text/html": [
       "<div>\n",
       "<style scoped>\n",
       "    .dataframe tbody tr th:only-of-type {\n",
       "        vertical-align: middle;\n",
       "    }\n",
       "\n",
       "    .dataframe tbody tr th {\n",
       "        vertical-align: top;\n",
       "    }\n",
       "\n",
       "    .dataframe thead th {\n",
       "        text-align: right;\n",
       "    }\n",
       "</style>\n",
       "<table border=\"1\" class=\"dataframe\">\n",
       "  <thead>\n",
       "    <tr style=\"text-align: right;\">\n",
       "      <th></th>\n",
       "      <th>Review</th>\n",
       "      <th>TripStyle</th>\n",
       "    </tr>\n",
       "  </thead>\n",
       "  <tbody>\n",
       "    <tr>\n",
       "      <th>10</th>\n",
       "      <td>Nothing all great  Rooms were stunningly deco...</td>\n",
       "      <td>Leisure</td>\n",
       "    </tr>\n",
       "    <tr>\n",
       "      <th>11</th>\n",
       "      <td>6 30 AM started big noise workers loading woo...</td>\n",
       "      <td>Business</td>\n",
       "    </tr>\n",
       "    <tr>\n",
       "      <th>12</th>\n",
       "      <td>The floor in my room was filfy dirty Very bas...</td>\n",
       "      <td>Leisure</td>\n",
       "    </tr>\n",
       "    <tr>\n",
       "      <th>13</th>\n",
       "      <td>This hotel is being renovated with great care...</td>\n",
       "      <td>Business</td>\n",
       "    </tr>\n",
       "    <tr>\n",
       "      <th>14</th>\n",
       "      <td>The staff in the restaurant could of been mor...</td>\n",
       "      <td>Leisure</td>\n",
       "    </tr>\n",
       "    <tr>\n",
       "      <th>15</th>\n",
       "      <td>This hotel is awesome I took it sincirely bec...</td>\n",
       "      <td>Leisure</td>\n",
       "    </tr>\n",
       "    <tr>\n",
       "      <th>16</th>\n",
       "      <td>Very steep steps in room up to the bed not sa...</td>\n",
       "      <td>Leisure</td>\n",
       "    </tr>\n",
       "    <tr>\n",
       "      <th>17</th>\n",
       "      <td>We did not like the fact that breakfast was n...</td>\n",
       "      <td>Leisure</td>\n",
       "    </tr>\n",
       "    <tr>\n",
       "      <th>18</th>\n",
       "      <td>Public areas are lovely and the room was nice...</td>\n",
       "      <td>Business</td>\n",
       "    </tr>\n",
       "    <tr>\n",
       "      <th>19</th>\n",
       "      <td>We had issues with our electronic key everyda...</td>\n",
       "      <td>Leisure</td>\n",
       "    </tr>\n",
       "  </tbody>\n",
       "</table>\n",
       "</div>"
      ],
      "text/plain": [
       "                                               Review TripStyle\n",
       "10   Nothing all great  Rooms were stunningly deco...   Leisure\n",
       "11   6 30 AM started big noise workers loading woo...  Business\n",
       "12   The floor in my room was filfy dirty Very bas...   Leisure\n",
       "13   This hotel is being renovated with great care...  Business\n",
       "14   The staff in the restaurant could of been mor...   Leisure\n",
       "15   This hotel is awesome I took it sincirely bec...   Leisure\n",
       "16   Very steep steps in room up to the bed not sa...   Leisure\n",
       "17   We did not like the fact that breakfast was n...   Leisure\n",
       "18   Public areas are lovely and the room was nice...  Business\n",
       "19   We had issues with our electronic key everyda...   Leisure"
      ]
     },
     "execution_count": 69,
     "metadata": {},
     "output_type": "execute_result"
    }
   ],
   "source": [
    "temp[10:20]"
   ]
  },
  {
   "cell_type": "code",
   "execution_count": 70,
   "metadata": {},
   "outputs": [],
   "source": [
    "temp.to_csv('Hotel_Reviews_Cleanded.csv')"
   ]
  }
 ],
 "metadata": {
  "kernelspec": {
   "display_name": "Python 3",
   "language": "python",
   "name": "python3"
  },
  "language_info": {
   "codemirror_mode": {
    "name": "ipython",
    "version": 3
   },
   "file_extension": ".py",
   "mimetype": "text/x-python",
   "name": "python",
   "nbconvert_exporter": "python",
   "pygments_lexer": "ipython3",
   "version": "3.7.0"
  }
 },
 "nbformat": 4,
 "nbformat_minor": 2
}
